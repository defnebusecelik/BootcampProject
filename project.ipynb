{
 "cells": [
  {
   "cell_type": "code",
   "execution_count": 1,
   "id": "d5e07393",
   "metadata": {},
   "outputs": [],
   "source": [
    "import csv\n",
    "import datetime"
   ]
  },
  {
   "cell_type": "code",
   "execution_count": 2,
   "id": "4b7a664e",
   "metadata": {},
   "outputs": [],
   "source": [
    "#dosyayı okuma\n",
    "def read_menu():\n",
    "    with open('menu.txt', 'r') as menu:\n",
    "        print(menu.read())"
   ]
  },
  {
   "cell_type": "code",
   "execution_count": 3,
   "id": "5816180d",
   "metadata": {},
   "outputs": [],
   "source": [
    "#main metodu\n",
    "def main():\n",
    "    read_menu()"
   ]
  },
  {
   "cell_type": "code",
   "execution_count": 4,
   "id": "06867ad0",
   "metadata": {},
   "outputs": [],
   "source": [
    "#pizza super classı, pizza çeşit ve ücret fonksiyonları\n",
    "class Pizza:\n",
    "    def __init__(self, desc, cost):\n",
    "        self.desc = desc\n",
    "        self.cost = cost\n",
    "    def get_desc(self):\n",
    "        return self.desc\n",
    "    def get_cost(self):\n",
    "        return self.cost"
   ]
  },
  {
   "cell_type": "code",
   "execution_count": 5,
   "id": "cd34b7bd",
   "metadata": {},
   "outputs": [],
   "source": [
    "class Klasik(Pizza):\n",
    "    def __init__(self):\n",
    "        super().__init__('Klasik Pizza', 60)"
   ]
  },
  {
   "cell_type": "code",
   "execution_count": 6,
   "id": "a7f46266",
   "metadata": {},
   "outputs": [],
   "source": [
    "class TurkPizza(Pizza):\n",
    "    def __init__(self):\n",
    "        super().__init__('Türk Pizza', 80)"
   ]
  },
  {
   "cell_type": "code",
   "execution_count": 7,
   "id": "a9dfd2ce",
   "metadata": {},
   "outputs": [],
   "source": [
    "class Sade(Pizza):\n",
    "    def __init__(self):\n",
    "        super().__init__('Sade Pizza', 50)"
   ]
  },
  {
   "cell_type": "code",
   "execution_count": 8,
   "id": "39c8008b",
   "metadata": {},
   "outputs": [],
   "source": [
    "class Margarita(Pizza):\n",
    "    def __init__(self):\n",
    "        super().__init__('Margarita Pizza', 70)"
   ]
  },
  {
   "cell_type": "code",
   "execution_count": 9,
   "id": "e435b368",
   "metadata": {},
   "outputs": [],
   "source": [
    "class Dominos(Pizza):\n",
    "    def __init__(self):\n",
    "        super().__init__('Dominos Pizza', 90)"
   ]
  },
  {
   "cell_type": "code",
   "execution_count": 10,
   "id": "574b687a",
   "metadata": {},
   "outputs": [],
   "source": [
    "#eklenen ek ürünler için sınıf\n",
    "class Decorator(Pizza):\n",
    "    def __init__(self, component, desc, cost):\n",
    "        super().__init__(desc, cost)\n",
    "        self.component = component\n",
    "    def get_cost(self):\n",
    "        return self.component.get_cost() + super().get_cost()\n",
    "    def get_desc(self):\n",
    "        return super().get_desc() + ' ' + self.component.get_desc()"
   ]
  },
  {
   "cell_type": "code",
   "execution_count": 11,
   "id": "692b9b13",
   "metadata": {},
   "outputs": [],
   "source": [
    "class Mushroom(Decorator):\n",
    "    def __init__(self, component):\n",
    "        super().__init__(component, 'Mantar',9)"
   ]
  },
  {
   "cell_type": "code",
   "execution_count": 12,
   "id": "51cf1d73",
   "metadata": {},
   "outputs": [],
   "source": [
    "class Corn(Decorator):\n",
    "    def __init__(self, component):\n",
    "        super().__init__(component, 'Mısır',6)"
   ]
  },
  {
   "cell_type": "code",
   "execution_count": 13,
   "id": "a7c81830",
   "metadata": {},
   "outputs": [],
   "source": [
    "class Cheese(Decorator):\n",
    "    def __init__(self, component):\n",
    "        super().__init__(component, 'Keçi peyniri',8)"
   ]
  },
  {
   "cell_type": "code",
   "execution_count": 14,
   "id": "e0186577",
   "metadata": {},
   "outputs": [],
   "source": [
    "class Onions(Decorator):\n",
    "    def __init__(self, component):\n",
    "        super().__init__(component, 'Soğan',3)"
   ]
  },
  {
   "cell_type": "code",
   "execution_count": 15,
   "id": "95713d67",
   "metadata": {},
   "outputs": [],
   "source": [
    "class Meat(Decorator):\n",
    "    def __init__(self, component):\n",
    "        super().__init__(component, 'Et',10)"
   ]
  },
  {
   "cell_type": "code",
   "execution_count": 16,
   "id": "a0ccc8ae",
   "metadata": {},
   "outputs": [],
   "source": [
    "class Olive(Decorator):\n",
    "    def __init__(self, component):\n",
    "        super().__init__(component, 'Zeytin', 5)"
   ]
  },
  {
   "cell_type": "code",
   "execution_count": 17,
   "id": "3a250bad",
   "metadata": {},
   "outputs": [],
   "source": [
    "#girilen kimlik numarası kontrolü sınıfı\n",
    "def TC_cont(value):\n",
    "    value = str(value)\n",
    "    if not len(value) == 11:\n",
    "        return False\n",
    "    if not value.isdigit():\n",
    "        return False\n",
    "    digit_number = [int(d) for d in str(value)]\n",
    "\n",
    "    if not sum(digit_number[:10]) % 10 == digit_number[10]:\n",
    "        return False\n",
    "    \n",
    "    return True"
   ]
  },
  {
   "cell_type": "code",
   "execution_count": 18,
   "id": "735ab3f5",
   "metadata": {},
   "outputs": [],
   "source": [
    "def Time():\n",
    "    return datetime.datetime.now().strftime(\"%d/%m/%Y %H:%M:%S\")"
   ]
  },
  {
   "cell_type": "code",
   "execution_count": 19,
   "id": "2cd47248",
   "metadata": {},
   "outputs": [],
   "source": [
    "#girilen kredi kartı numarası kontrolü sınıfı\n",
    "def Credicont(value):\n",
    "    value = str(value)\n",
    "    if not len(value) == 16:\n",
    "        return False\n",
    "    if not value.isdigit():\n",
    "        return False\n",
    "    return True"
   ]
  },
  {
   "cell_type": "code",
   "execution_count": 20,
   "id": "a58bfb25",
   "metadata": {},
   "outputs": [],
   "source": [
    "#girilen kart şifresinin kontrolü sınıfı\n",
    "def Passwordcont(value):\n",
    "    value = str(value)\n",
    "    if not len(value) == 4:\n",
    "        return False\n",
    "    if not value.isdigit():\n",
    "        return False\n",
    "    return True"
   ]
  },
  {
   "cell_type": "code",
   "execution_count": null,
   "id": "1e7a320f",
   "metadata": {},
   "outputs": [
    {
     "name": "stdout",
     "output_type": "stream",
     "text": [
      "* LÃ¼tfen Bir Pizza TabanÄ± SeÃ§iniz:\n",
      "1: Klasik\n",
      "2: Margarita\n",
      "3: TÃ¼rkPizza\n",
      "4: Sade Pizza\n",
      "* ve seÃ§eceÄŸiniz sos:\n",
      "11: Zeytin\n",
      "12: Mantarlar\n",
      "13: KeÃ§i Peyniri\n",
      "14: Et\n",
      "15: SoÄŸan\n",
      "16: MÄ±sÄ±r\n",
      "* TeÅŸekkÃ¼r ederiz!\n",
      "\n",
      "Pizza seçiniz (1-4): 2\n",
      "Sos seçiniz (11-16): 12\n",
      "\n",
      "Seçiminiz : Mantar Margarita Pizza\n",
      "Toplam tutar: 79.00 TL\n",
      "\n",
      "Siparişi Onayla (e/h)e\n",
      "\n",
      "Lütfen isminizi giriniz: defne\n"
     ]
    }
   ],
   "source": [
    "#main metodunu çağırıp işlemleri gerçekleştirme\n",
    "if __name__ == '__main__':\n",
    "    main()\n",
    "#yeni müşteriye pizza seçimi\n",
    "while True:\n",
    "    pizza_choice = input('Pizza seçiniz (1-4): ')\n",
    "    if pizza_choice == '1':\n",
    "        pizza = Klasik()\n",
    "        break\n",
    "    elif pizza_choice == '2':\n",
    "        pizza = Margarita()\n",
    "        break\n",
    "    elif pizza_choice == '3':\n",
    "        pizza = TurkPizza()\n",
    "        break\n",
    "    elif pizza_choice == '4':\n",
    "        pizza = Sade()\n",
    "        break\n",
    "    else:\n",
    "        print('Geçersiz')\n",
    "\n",
    "#eklenecek ürün seçimi       \n",
    "while True:\n",
    "    sauce_ = input('Sos seçiniz (11-16): ')\n",
    "\n",
    "    if sauce_ == '11':\n",
    "        sauce = Olive(pizza)\n",
    "        break\n",
    "    elif sauce_ == '12':\n",
    "        sauce = Mushroom(pizza)\n",
    "        break\n",
    "    elif sauce_ == '13':\n",
    "        sauce = Cheese(pizza)\n",
    "        break\n",
    "    elif sauce_ == '14':\n",
    "        sauce = Meat(pizza)\n",
    "        break\n",
    "    elif sauce_ == '15':\n",
    "        sauce = Onion(pizza)\n",
    "        break\n",
    "    elif sauce_ == '16':\n",
    "        sauce = Corn(pizza)\n",
    "        break\n",
    "    else:   \n",
    "        print('Geçersiz')\n",
    "\n",
    "#fiyat toplama\n",
    "total_cost = sauce.get_cost()\n",
    "\n",
    "print(f'\\nSeçiminiz : {sauce.get_desc()}\\nToplam tutar: {total_cost:.2f} TL\\n')\n",
    "\n",
    "#müşteriye siparişi onaylayıp onaylamadığını sorma\n",
    "while True:\n",
    "    aprv = input('Siparişi Onayla (e/h)').lower()\n",
    "    if aprv == 'e':\n",
    "        name = input('\\nLütfen isminizi giriniz: ')\n",
    "        \n",
    "        while True:\n",
    "            id_num = input('Lütfen TC kimlik numaranızı giriniz: ')\n",
    "            if TC_cont(id_num) is True:\n",
    "                break\n",
    "            else:\n",
    "                print('Hatalı\\n')\n",
    "\n",
    "        while True:\n",
    "            cc_num = input('Lütfen kredi kartı numaranızı giriniz: ')\n",
    "            if Credicont(cc_num) is True:\n",
    "                break\n",
    "            else:\n",
    "                print('Hatalı\\n')\n",
    "\n",
    "        while True:\n",
    "            cc_pass = input('Lütfen kredi kartı şifrenizi giriniz: ')\n",
    "            if Passwordcont(cc_pass) is True:\n",
    "                break\n",
    "            else:\n",
    "                print('Hatalı\\n')\n",
    "\n",
    "        #dosyaya ilgili bilgileri kaydetme\n",
    "        dt_string = Time()\n",
    "        with open('Orders_Database.csv', 'a') as db_file:\n",
    "            db_writer = csv.writer(db_file)\n",
    "            db_writer.writerow([name, id_num, sauce.get_desc(), total_cost, cc_num, cc_pass, dt_string])\n",
    "\n",
    "        print(f'\\nTeşekkürler {name}! {sauce.get_desc()} siparişiniz alınmıştır.')\n",
    "        print(f'Toplam tutar: {total_cost:.2f} TL')\n",
    "        break\n",
    "\n",
    "\n",
    "    elif aprvl == 'h':\n",
    "        print('Seçiminiz iptal edildi')\n",
    "        break\n",
    "    \n",
    "    else:\n",
    "        print('\\nHatalı\\n')"
   ]
  },
  {
   "cell_type": "code",
   "execution_count": null,
   "id": "7a2c6eed",
   "metadata": {},
   "outputs": [],
   "source": []
  }
 ],
 "metadata": {
  "kernelspec": {
   "display_name": "Python 3 (ipykernel)",
   "language": "python",
   "name": "python3"
  },
  "language_info": {
   "codemirror_mode": {
    "name": "ipython",
    "version": 3
   },
   "file_extension": ".py",
   "mimetype": "text/x-python",
   "name": "python",
   "nbconvert_exporter": "python",
   "pygments_lexer": "ipython3",
   "version": "3.9.13"
  }
 },
 "nbformat": 4,
 "nbformat_minor": 5
}
